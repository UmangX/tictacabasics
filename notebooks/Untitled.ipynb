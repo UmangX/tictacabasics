{
 "cells": [
  {
   "cell_type": "code",
   "execution_count": 23,
   "id": "d294f6e9-ec9e-4291-9f02-5356b7d638a4",
   "metadata": {},
   "outputs": [],
   "source": [
    "import numpy as np \n",
    "\n",
    "\n",
    "#generates array with 9 len which is projected as the board and used for numerical stuff \n",
    "def generate():\n",
    "    brd = np.zeros(9)\n",
    "    return brd\n",
    "\n",
    "#prints the np array as a baord \n",
    "def print_board(brd):\n",
    "    for i in range(9): \n",
    "        x = i + 1 \n",
    "        if brd[i] == 0:\n",
    "            print(\"_ \",end=' ')\n",
    "        if brd[i] == 1:\n",
    "            print(\"X \",end=' ')\n",
    "        if brd[i] == 2:\n",
    "            print(\"O \",end=' ')\n",
    "        if (x%3) == 0:\n",
    "            print()\n",
    "\n",
    "#defines a move changes the position value to 1 which is referred to as X \n",
    "def move(x,brd):\n",
    "    brd[x] = 1\n",
    "\n",
    "#check the board with the rows , columns and diagonal return 1 , 2 , -1 \n",
    "def win_check(brd):\n",
    "    if (brd[0] == brd[4] == brd[8] != 0):\n",
    "        return brd[0]; \n",
    "    if (brd[0] == brd[1] == brd[2] != 0):\n",
    "        return brd[0]; \n",
    "    if (brd[3] == brd[4] == brd[5] != 0):\n",
    "        return brd[0]; \n",
    "    if (brd[6] == brd[7] == brd[8] != 0):\n",
    "        return brd[0]; \n",
    "    if (brd[0] == brd[3] == brd[6] != 0):\n",
    "        return brd[0]; \n",
    "    if (brd[1] == brd[4] == brd[7] != 0):\n",
    "        return brd[0]; \n",
    "    if (brd[2] == brd[5] == brd[8] != 0):\n",
    "        return brd[0]; \n",
    "    if (brd[2] == brd[4] == brd[6] != 0):\n",
    "        return brd[0]; \n",
    "    else:\n",
    "        return -1"
   ]
  },
  {
   "cell_type": "code",
   "execution_count": 25,
   "id": "b0a7b1e8-f04b-41fa-b617-0cda1f5ec22c",
   "metadata": {},
   "outputs": [],
   "source": [
    "def generate_moves(intial_state):\n",
    "    generated = []\n",
    "    for i in range(9):\n",
    "        if intial_state[i] == 0:\n",
    "            new_state = intial_state.copy()\n",
    "            new_state[i] = 2\n",
    "            generated.append(new_state)\n",
    "    return generated \n"
   ]
  },
  {
   "cell_type": "code",
   "execution_count": 26,
   "id": "d484d4ac-c299-4405-a1bb-aa0f1e5a4597",
   "metadata": {},
   "outputs": [
    {
     "name": "stdout",
     "output_type": "stream",
     "text": [
      "_  X  X  \n",
      "X  X  _  \n",
      "_  _  X  \n"
     ]
    }
   ],
   "source": [
    "tester_brd = generate()\n",
    "move(1,tester_brd)\n",
    "move(2,tester_brd)\n",
    "move(3,tester_brd)\n",
    "move(4,tester_brd)\n",
    "move(8,tester_brd)\n",
    "print_board(tester_brd) "
   ]
  },
  {
   "cell_type": "code",
   "execution_count": 28,
   "id": "30df110d-76b4-4d65-8ecc-cdbd80829f87",
   "metadata": {},
   "outputs": [
    {
     "name": "stdout",
     "output_type": "stream",
     "text": [
      "---\n",
      "O  X  X  \n",
      "X  X  _  \n",
      "_  _  X  \n",
      "---\n",
      "---\n",
      "_  X  X  \n",
      "X  X  O  \n",
      "_  _  X  \n",
      "---\n",
      "---\n",
      "_  X  X  \n",
      "X  X  _  \n",
      "O  _  X  \n",
      "---\n",
      "---\n",
      "_  X  X  \n",
      "X  X  _  \n",
      "_  O  X  \n",
      "---\n"
     ]
    }
   ],
   "source": [
    "generated_data = generate_moves(tester_brd)\n",
    "for m in generated_data:\n",
    "    print(\"---\")\n",
    "    print_board(m)\n",
    "    print(\"---\")"
   ]
  }
 ],
 "metadata": {
  "kernelspec": {
   "display_name": "Python 3 (ipykernel)",
   "language": "python",
   "name": "python3"
  },
  "language_info": {
   "codemirror_mode": {
    "name": "ipython",
    "version": 3
   },
   "file_extension": ".py",
   "mimetype": "text/x-python",
   "name": "python",
   "nbconvert_exporter": "python",
   "pygments_lexer": "ipython3",
   "version": "3.9.6"
  }
 },
 "nbformat": 4,
 "nbformat_minor": 5
}
