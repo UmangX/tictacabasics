{
 "cells": [
  {
   "cell_type": "code",
   "execution_count": 24,
   "id": "d294f6e9-ec9e-4291-9f02-5356b7d638a4",
   "metadata": {},
   "outputs": [],
   "source": [
    "import numpy as np \n",
    "#generates array with 9 len which is projected as the board and used for numerical stuff \n",
    "def generate():\n",
    "    brd = np.zeros(10)\n",
    "    brd[9] = 1\n",
    "    return brd\n",
    "\n",
    "#prints the np array as a baord \n",
    "def print_board(brd):\n",
    "    for i in range(9): \n",
    "        x = i + 1 \n",
    "        if brd[i] == 0:\n",
    "            print(\"_ \",end=' ')\n",
    "        if brd[i] == 1:\n",
    "            print(\"X \",end=' ')\n",
    "        if brd[i] == 2:\n",
    "            print(\"O \",end=' ')\n",
    "        if (x%3) == 0:\n",
    "            print()\n",
    "\n",
    "#defines a move changes the position value to 1 which is referred to as X \n",
    "def move(x,brd):\n",
    "    brd[x] = 1\n",
    "\n",
    "#check the board with the rows , columns and diagonal return 1 , 2 , -1 \n",
    "def win_check(brd):\n",
    "    if (brd[0] == brd[4] == brd[8] != 0):\n",
    "        return brd[0]; \n",
    "    if (brd[0] == brd[1] == brd[2] != 0):\n",
    "        return brd[0]; \n",
    "    if (brd[3] == brd[4] == brd[5] != 0):\n",
    "        return brd[0]; \n",
    "    if (brd[6] == brd[7] == brd[8] != 0):\n",
    "        return brd[0]; \n",
    "    if (brd[0] == brd[3] == brd[6] != 0):\n",
    "        return brd[0]; \n",
    "    if (brd[1] == brd[4] == brd[7] != 0):\n",
    "        return brd[0]; \n",
    "    if (brd[2] == brd[5] == brd[8] != 0):\n",
    "        return brd[0]; \n",
    "    if (brd[2] == brd[4] == brd[6] != 0):\n",
    "        return brd[0]; \n",
    "    else:\n",
    "        return -1"
   ]
  },
  {
   "cell_type": "code",
   "execution_count": 20,
   "id": "b0a7b1e8-f04b-41fa-b617-0cda1f5ec22c",
   "metadata": {},
   "outputs": [],
   "source": [
    "def generate_moves_for_2(intial_state):\n",
    "    generated = []\n",
    "    for i in range(9):\n",
    "        if intial_state[i] == 0:\n",
    "            new_state = intial_state.copy()\n",
    "            new_state[i] = 2\n",
    "            new_state[9] = 1\n",
    "            generated.append(new_state)\n",
    "    return generated \n",
    "#2 = O 1 = X 0 = _ \n",
    "\n",
    "def generate_moves_for_1(intial_state):\n",
    "    generated = []\n",
    "    for i in range(9):\n",
    "        if intial_state[i] == 0:\n",
    "            new_state = intial_state.copy()\n",
    "            new_state[i] = 1\n",
    "            new_state[9] = 2\n",
    "            generated.append(new_state)\n",
    "    return generated \n"
   ]
  },
  {
   "cell_type": "code",
   "execution_count": 31,
   "id": "fb52a971-8a6a-43b0-8ca5-8c4a98f18958",
   "metadata": {},
   "outputs": [
    {
     "name": "stdout",
     "output_type": "stream",
     "text": [
      "X  O  X  \n",
      "O  X  X  \n",
      "X  O  O  \n"
     ]
    }
   ],
   "source": [
    "tester = generate()\n",
    "\n",
    "class node(object):\n",
    "    def __init__(self,data,parent):\n",
    "        self.data = data\n",
    "        self.children = []\n",
    "        self.parent = parent \n",
    "    def add_children(self,obj):\n",
    "        self.children.append(obj)\n",
    "\n",
    "def printTree(root, level=0):\n",
    "    print(\"  \" * level, root.data)\n",
    "    for child in root.children:\n",
    "        printTree(child, level + 1)\n",
    "\n",
    "data_set = node(tester,tester)\n",
    "\n",
    "def gen_moves(start_state,root):\n",
    "    if start_state[9] == 1:\n",
    "        for m in generate_moves_for_1(start_state):\n",
    "            data_set.add_children(node(m,root))\n",
    "            gen_moves(m,m)\n",
    "    if start_state[9] == 2:\n",
    "        for m in generate_moves_for_2(start_state):\n",
    "            data_set.add_children(node(m,root))\n",
    "            gen_moves(m,m)\n",
    "\n",
    "data = (1, 2, 1, 2, 1, 1, 1, 2, 2, 2,)\n",
    "\n",
    "print_board(data)\n"
   ]
  }
 ],
 "metadata": {
  "kernelspec": {
   "display_name": "Python 3 (ipykernel)",
   "language": "python",
   "name": "python3"
  },
  "language_info": {
   "codemirror_mode": {
    "name": "ipython",
    "version": 3
   },
   "file_extension": ".py",
   "mimetype": "text/x-python",
   "name": "python",
   "nbconvert_exporter": "python",
   "pygments_lexer": "ipython3",
   "version": "3.9.6"
  }
 },
 "nbformat": 4,
 "nbformat_minor": 5
}
